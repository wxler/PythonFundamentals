{
 "cells": [
  {
   "cell_type": "markdown",
   "metadata": {},
   "source": [
    "# Numpy基础：数组和矢量计算"
   ]
  },
  {
   "cell_type": "markdown",
   "metadata": {},
   "source": [
    "http://www.numpy.org/"
   ]
  },
  {
   "cell_type": "markdown",
   "metadata": {},
   "source": [
    "NumPy是使用Python进行科学计算的基本软件包。它包含以下内容：\n",
    "\n",
    "- 强大的N维数组对象\n",
    "\n",
    "- 复杂的（广播）功能\n",
    "\n",
    "- 集成C / C ++和Fortran代码的工具\n",
    "\n",
    "- 有用的线性代数，傅立叶变换和随机数功能"
   ]
  },
  {
   "cell_type": "markdown",
   "metadata": {},
   "source": [
    "数组操作很很很重要！！！！\n",
    "- 便捷\n",
    "- 快速"
   ]
  },
  {
   "cell_type": "code",
   "execution_count": 1,
   "metadata": {},
   "outputs": [],
   "source": [
    "import numpy as np"
   ]
  },
  {
   "cell_type": "code",
   "execution_count": 3,
   "metadata": {},
   "outputs": [
    {
     "name": "stdout",
     "output_type": "stream",
     "text": [
      "[0 1 2 3 4 5 6 7 8 9]\n",
      "<class 'numpy.ndarray'>\n",
      "[0, 1, 2, 3, 4, 5, 6, 7, 8, 9]\n",
      "<class 'list'>\n"
     ]
    }
   ],
   "source": [
    "arr=np.arange(10)\n",
    "print(arr)\n",
    "listTest=list(arr)\n",
    "print(type(arr))\n",
    "print(listTest)\n",
    "print(type(listTest))"
   ]
  },
  {
   "cell_type": "code",
   "execution_count": 10,
   "metadata": {},
   "outputs": [],
   "source": [
    "my_arr = np.arange(1000000)     #调用numpy创建一维数组\n",
    "my_list = list(range(1000000))  #使用列表创建一维数组"
   ]
  },
  {
   "cell_type": "code",
   "execution_count": 11,
   "metadata": {},
   "outputs": [
    {
     "name": "stdout",
     "output_type": "stream",
     "text": [
      "[0 1 2]\n",
      "[   0 1024 2048]\n"
     ]
    }
   ],
   "source": [
    "my_arr1=np.arange(3)\n",
    "print(my_arr1)\n",
    "#np.arrange的乘号是把里面的每一个元素相乘\n",
    "for _ in range(10): my_arr1 = my_arr1 * 2\n",
    "print(my_arr1)"
   ]
  },
  {
   "cell_type": "markdown",
   "metadata": {},
   "source": [
    "# 本节导航\n",
    "- 1. NumPy的ndarray：一种多维数组对象\n",
    "- 2. Numpy通用函数：快速的元素级数组函数\n",
    "- 3. 利用数组进行数据处理\n",
    "- 4. 伪随机数\n",
    "- 5. 简单爬虫"
   ]
  },
  {
   "cell_type": "markdown",
   "metadata": {},
   "source": [
    "# 1. NumPy的ndarray：一种多维数组对象"
   ]
  },
  {
   "cell_type": "markdown",
   "metadata": {},
   "source": [
    "- Numpy导入"
   ]
  },
  {
   "cell_type": "code",
   "execution_count": 12,
   "metadata": {},
   "outputs": [],
   "source": [
    "#导入惯例，as为重命名\n",
    "import numpy as np"
   ]
  },
  {
   "cell_type": "code",
   "execution_count": 13,
   "metadata": {},
   "outputs": [],
   "source": [
    "#dir(np)"
   ]
  },
  {
   "cell_type": "markdown",
   "metadata": {},
   "source": [
    "python dir 函数"
   ]
  },
  {
   "cell_type": "markdown",
   "metadata": {},
   "source": [
    "dir() 函数不带参数时，返回当前范围内的变量、方法和定义的类型列表；带参数时，返回参数的属性、方法列表。如果参数包含方法__dir__()，该方法将被调用。如果参数不包含__dir__()，该方法将最大限度地收集参数信息。"
   ]
  },
  {
   "cell_type": "code",
   "execution_count": 15,
   "metadata": {},
   "outputs": [],
   "source": [
    "#dir()"
   ]
  },
  {
   "cell_type": "markdown",
   "metadata": {},
   "source": [
    "numpy参考文档http://www.numpy.org/\n"
   ]
  },
  {
   "cell_type": "markdown",
   "metadata": {},
   "source": [
    "NumPy最重要的一个特点就是其N维数组对象（即ndarray），该对象是一个快速而灵活的大数据集容器。可以利用这种数组对**整块数据**执行一些数学运算，其语法跟标量元素之间的运算一样。"
   ]
  },
  {
   "cell_type": "code",
   "execution_count": 19,
   "metadata": {},
   "outputs": [
    {
     "name": "stdout",
     "output_type": "stream",
     "text": [
      "[[-0.55715672 -0.57682678 -0.31859245]\n",
      " [ 1.40920395 -0.10423343 -0.22675792]]\n"
     ]
    }
   ],
   "source": [
    "#返回一个大小为2*3的ndarray\n",
    "data = np.random.randn(2, 3)\n",
    "print(data)"
   ]
  },
  {
   "cell_type": "code",
   "execution_count": 20,
   "metadata": {},
   "outputs": [
    {
     "name": "stdout",
     "output_type": "stream",
     "text": [
      "data * 10: \n",
      " [[-5.57156725 -5.76826779 -3.18592447]\n",
      " [14.09203946 -1.04233434 -2.26757923]]\n"
     ]
    }
   ],
   "source": [
    "#所有元素都乘以10\n",
    "print('data * 10: \\n', data * 10)"
   ]
  },
  {
   "cell_type": "markdown",
   "metadata": {},
   "source": [
    "**ndarray所有元素必须是相同类型的**\n",
    "- shape：表示各维度大小的元组\n",
    "- dtype：用于说明数组数据类型的对象"
   ]
  },
  {
   "cell_type": "code",
   "execution_count": 21,
   "metadata": {},
   "outputs": [
    {
     "name": "stdout",
     "output_type": "stream",
     "text": [
      "data shape: (2, 3)\n",
      "data dtype: float64\n"
     ]
    }
   ],
   "source": [
    "print('data shape:', data.shape)\n",
    "print('data dtype:', data.dtype)"
   ]
  },
  {
   "cell_type": "markdown",
   "metadata": {},
   "source": [
    "## 1.1. 创建数组"
   ]
  },
  {
   "cell_type": "markdown",
   "metadata": {},
   "source": [
    "- array()：将Python对象(list/tuple)转换为数组"
   ]
  },
  {
   "cell_type": "code",
   "execution_count": 22,
   "metadata": {},
   "outputs": [
    {
     "data": {
      "text/plain": [
       "[0, 1, 2, 3]"
      ]
     },
     "execution_count": 22,
     "metadata": {},
     "output_type": "execute_result"
    }
   ],
   "source": [
    "ls_1 = list(range(4))\n",
    "ls_1"
   ]
  },
  {
   "cell_type": "code",
   "execution_count": 24,
   "metadata": {},
   "outputs": [
    {
     "name": "stdout",
     "output_type": "stream",
     "text": [
      "[0 1 2 3]\n"
     ]
    }
   ],
   "source": [
    "#将列表转化为数组，注意不可以用np.arange(ls_1)\n",
    "arr_1 = np.array(ls_1)\n",
    "#注意 列表有逗号隔开，np array数组没有逗号\n",
    "print(arr_1)"
   ]
  },
  {
   "cell_type": "code",
   "execution_count": 25,
   "metadata": {},
   "outputs": [
    {
     "data": {
      "text/plain": [
       "[[0, 1, 2, 3], [0, 1, 2, 3]]"
      ]
     },
     "execution_count": 25,
     "metadata": {},
     "output_type": "execute_result"
    }
   ],
   "source": [
    "[ls_1,ls_1]"
   ]
  },
  {
   "cell_type": "code",
   "execution_count": 26,
   "metadata": {},
   "outputs": [
    {
     "name": "stdout",
     "output_type": "stream",
     "text": [
      "[[0, 1, 2, 3], [0, 1, 2, 3]]\n"
     ]
    }
   ],
   "source": [
    "ls_2 = [ls_1]*2\n",
    "print(ls_2)"
   ]
  },
  {
   "cell_type": "code",
   "execution_count": 27,
   "metadata": {},
   "outputs": [
    {
     "name": "stdout",
     "output_type": "stream",
     "text": [
      "[[0 1 2 3]\n",
      " [0 1 2 3]]\n"
     ]
    }
   ],
   "source": [
    "arr_2 = np.array(ls_2)\n",
    "print(arr_2)"
   ]
  },
  {
   "cell_type": "code",
   "execution_count": 29,
   "metadata": {},
   "outputs": [
    {
     "name": "stdout",
     "output_type": "stream",
     "text": [
      "2\n",
      "(2, 4)\n"
     ]
    }
   ],
   "source": [
    "# 查看arr_2属性\n",
    "print(arr_2.ndim) #n代表一个，dim维度,ndim是几个维度\n",
    "print(arr_2.shape)#shape看每个维度的大小多少,结果是 长多少，宽多少"
   ]
  },
  {
   "cell_type": "markdown",
   "metadata": {},
   "source": [
    "np.array会尝试为新建的这个数组推断出一个较为合适的数据类型。数据类型保存在一个特殊的dtype对象中"
   ]
  },
  {
   "cell_type": "code",
   "execution_count": 30,
   "metadata": {},
   "outputs": [],
   "source": [
    "\n",
    "ls_3 = [1, 3, 1.5]\n",
    "#np adarray 每个元素的类型是一样的，这个和list要有区别\n",
    "arr_3 = np.array(ls_3)"
   ]
  },
  {
   "cell_type": "code",
   "execution_count": 31,
   "metadata": {},
   "outputs": [
    {
     "name": "stdout",
     "output_type": "stream",
     "text": [
      "int32\n",
      "int32\n",
      "float64\n"
     ]
    }
   ],
   "source": [
    "print(arr_1.dtype)\n",
    "print(arr_2.dtype)\n",
    "print(arr_3.dtype)"
   ]
  },
  {
   "cell_type": "code",
   "execution_count": 32,
   "metadata": {},
   "outputs": [
    {
     "name": "stdout",
     "output_type": "stream",
     "text": [
      "[1.  3.  1.5]\n"
     ]
    }
   ],
   "source": [
    "print(arr_3)"
   ]
  },
  {
   "cell_type": "markdown",
   "metadata": {},
   "source": [
    "- empty()：分配指定大小的数组，未初始化 ，随机填充值"
   ]
  },
  {
   "cell_type": "code",
   "execution_count": 33,
   "metadata": {},
   "outputs": [
    {
     "name": "stdout",
     "output_type": "stream",
     "text": [
      "[[7.57789675e-312 4.94065646e-324]\n",
      " [0.00000000e+000 0.00000000e+000]]\n"
     ]
    }
   ],
   "source": [
    "print(np.empty((2,2)))"
   ]
  },
  {
   "cell_type": "markdown",
   "metadata": {},
   "source": [
    "***注意*** 元组形式输入shape，因为shape返回值是元组形式"
   ]
  },
  {
   "cell_type": "code",
   "execution_count": 34,
   "metadata": {},
   "outputs": [
    {
     "ename": "TypeError",
     "evalue": "data type not understood",
     "output_type": "error",
     "traceback": [
      "\u001b[1;31m---------------------------------------------------------------------------\u001b[0m",
      "\u001b[1;31mTypeError\u001b[0m                                 Traceback (most recent call last)",
      "\u001b[1;32m<ipython-input-34-57293838f275>\u001b[0m in \u001b[0;36m<module>\u001b[1;34m\u001b[0m\n\u001b[1;32m----> 1\u001b[1;33m \u001b[0mprint\u001b[0m\u001b[1;33m(\u001b[0m\u001b[0mnp\u001b[0m\u001b[1;33m.\u001b[0m\u001b[0mempty\u001b[0m\u001b[1;33m(\u001b[0m\u001b[1;36m2\u001b[0m\u001b[1;33m,\u001b[0m\u001b[1;36m2\u001b[0m\u001b[1;33m)\u001b[0m\u001b[1;33m)\u001b[0m\u001b[1;33m\u001b[0m\u001b[1;33m\u001b[0m\u001b[0m\n\u001b[0m",
      "\u001b[1;31mTypeError\u001b[0m: data type not understood"
     ]
    }
   ],
   "source": [
    "print(np.empty(2,2))"
   ]
  },
  {
   "cell_type": "markdown",
   "metadata": {},
   "source": [
    "- zeros(), ones()：创建全为0或1的数组"
   ]
  },
  {
   "cell_type": "code",
   "execution_count": 36,
   "metadata": {},
   "outputs": [
    {
     "name": "stdout",
     "output_type": "stream",
     "text": [
      "[[0 0 0]\n",
      " [0 0 0]]\n",
      "int32\n",
      "[[1. 1.]\n",
      " [1. 1.]]\n",
      "float64\n"
     ]
    }
   ],
   "source": [
    "arr_0s = np.zeros((2,3),dtype = 'int32')\n",
    "#如果不指定类型，默认为float\n",
    "arr_1s = np.ones((2,2))\n",
    "print(arr_0s)\n",
    "print(arr_0s.dtype)\n",
    "print(arr_1s)\n",
    "print(arr_1s.dtype)"
   ]
  },
  {
   "cell_type": "code",
   "execution_count": 37,
   "metadata": {},
   "outputs": [],
   "source": [
    "#help(np.zeros)"
   ]
  },
  {
   "cell_type": "code",
   "execution_count": 38,
   "metadata": {},
   "outputs": [],
   "source": [
    "#np.zeros??"
   ]
  },
  {
   "cell_type": "markdown",
   "metadata": {},
   "source": [
    "- ones_like(),zeros_like():根据指定的形状和type，创建全1、全0数组\n",
    "- eye(), diag()：创建对角矩阵\n",
    "- arange()：通过开始值、终值和步长创建一维数组\n",
    "- linspace()：通过开始值、终值和元素个数创建一维数组\n",
    "- logspace()：同上，但创建等比数列  "
   ]
  },
  {
   "cell_type": "code",
   "execution_count": 39,
   "metadata": {},
   "outputs": [
    {
     "name": "stdout",
     "output_type": "stream",
     "text": [
      "[1.  3.  1.5]\n"
     ]
    },
    {
     "data": {
      "text/plain": [
       "array([1., 1., 1.])"
      ]
     },
     "execution_count": 39,
     "metadata": {},
     "output_type": "execute_result"
    }
   ],
   "source": [
    "print(arr_3)\n",
    "np.ones_like(arr_3)"
   ]
  },
  {
   "cell_type": "code",
   "execution_count": 41,
   "metadata": {},
   "outputs": [],
   "source": [
    "#help(np.eye)"
   ]
  },
  {
   "cell_type": "code",
   "execution_count": 50,
   "metadata": {},
   "outputs": [
    {
     "data": {
      "text/plain": [
       "array([[0., 1., 0.],\n",
       "       [0., 0., 1.],\n",
       "       [0., 0., 0.],\n",
       "       [0., 0., 0.]])"
      ]
     },
     "execution_count": 50,
     "metadata": {},
     "output_type": "execute_result"
    }
   ],
   "source": [
    "#创建一个4*3列的对角矩阵，第三个参数代表1出现的地方\n",
    "np.eye(4,3,1) #k>0 上对角， k<0 下对角"
   ]
  },
  {
   "cell_type": "code",
   "execution_count": 42,
   "metadata": {},
   "outputs": [
    {
     "data": {
      "text/plain": [
       "array([[1., 0., 0.],\n",
       "       [0., 1., 0.],\n",
       "       [0., 0., 1.],\n",
       "       [0., 0., 0.]])"
      ]
     },
     "execution_count": 42,
     "metadata": {},
     "output_type": "execute_result"
    }
   ],
   "source": [
    "np.eye(4,3,0) "
   ]
  },
  {
   "cell_type": "code",
   "execution_count": 43,
   "metadata": {},
   "outputs": [
    {
     "data": {
      "text/plain": [
       "array([[0., 0., 0.],\n",
       "       [1., 0., 0.],\n",
       "       [0., 1., 0.],\n",
       "       [0., 0., 1.]])"
      ]
     },
     "execution_count": 43,
     "metadata": {},
     "output_type": "execute_result"
    }
   ],
   "source": [
    "np.eye(4,3,-1) "
   ]
  },
  {
   "cell_type": "code",
   "execution_count": 358,
   "metadata": {},
   "outputs": [
    {
     "data": {
      "text/plain": [
       "array([[2, 0, 0, 0],\n",
       "       [0, 3, 0, 0],\n",
       "       [0, 0, 5, 0],\n",
       "       [0, 0, 0, 4]])"
      ]
     },
     "execution_count": 358,
     "metadata": {},
     "output_type": "execute_result"
    }
   ],
   "source": [
    "np.diag((2,3,5,4))"
   ]
  },
  {
   "cell_type": "markdown",
   "metadata": {},
   "source": [
    "## 1.2. 数组的基本属性"
   ]
  },
  {
   "cell_type": "markdown",
   "metadata": {},
   "source": [
    "- ndim：维度\n",
    "- shape：各维度大小（元组）\n",
    "- size：元素个数\n",
    "- dtype：数据类型"
   ]
  },
  {
   "cell_type": "markdown",
   "metadata": {},
   "source": [
    "**ndarray的数据类型**"
   ]
  },
  {
   "cell_type": "markdown",
   "metadata": {},
   "source": [
    "dtype方法：查看ndarray数据类型"
   ]
  },
  {
   "cell_type": "markdown",
   "metadata": {},
   "source": [
    "- ndarry基本数据类型"
   ]
  },
  {
   "cell_type": "code",
   "execution_count": 44,
   "metadata": {},
   "outputs": [
    {
     "name": "stdout",
     "output_type": "stream",
     "text": [
      "{<class 'numpy.uint32'>, <class 'numpy.str_'>, <class 'numpy.datetime64'>, <class 'numpy.float32'>, <class 'numpy.bool_'>, <class 'numpy.float64'>, <class 'numpy.clongdouble'>, <class 'numpy.float16'>, <class 'numpy.bytes_'>, <class 'numpy.uint16'>, <class 'numpy.complex64'>, <class 'numpy.complex128'>, <class 'numpy.timedelta64'>, <class 'numpy.int32'>, <class 'numpy.uint8'>, <class 'numpy.longdouble'>, <class 'numpy.void'>, <class 'numpy.int64'>, <class 'numpy.uintc'>, <class 'numpy.object_'>, <class 'numpy.int8'>, <class 'numpy.intc'>, <class 'numpy.uint64'>, <class 'numpy.int16'>}\n"
     ]
    }
   ],
   "source": [
    "print((set(np.typeDict.values())))"
   ]
  },
  {
   "cell_type": "markdown",
   "metadata": {},
   "source": [
    "### 1.2.1 指定数据类型--dtype"
   ]
  },
  {
   "cell_type": "code",
   "execution_count": 45,
   "metadata": {},
   "outputs": [
    {
     "data": {
      "text/plain": [
       "array([0.+0.j, 1.+0.j, 2.+0.j, 3.+0.j, 4.+0.j, 5.+0.j, 6.+0.j, 7.+0.j,\n",
       "       8.+0.j, 9.+0.j], dtype=complex64)"
      ]
     },
     "execution_count": 45,
     "metadata": {},
     "output_type": "execute_result"
    }
   ],
   "source": [
    "np.array(range(10),dtype = 'c8')"
   ]
  },
  {
   "cell_type": "code",
   "execution_count": 48,
   "metadata": {},
   "outputs": [
    {
     "data": {
      "text/plain": [
       "array([0., 1., 2., 3., 4., 5., 6., 7., 8., 9.], dtype=float32)"
      ]
     },
     "execution_count": 48,
     "metadata": {},
     "output_type": "execute_result"
    }
   ],
   "source": [
    "#f4=float32\n",
    "np.array(range(10),dtype = 'f4')"
   ]
  },
  {
   "cell_type": "code",
   "execution_count": 50,
   "metadata": {},
   "outputs": [
    {
     "data": {
      "text/plain": [
       "array([-1,  0,  1,  2,  3], dtype=int8)"
      ]
     },
     "execution_count": 50,
     "metadata": {},
     "output_type": "execute_result"
    }
   ],
   "source": [
    "#i1=int8\n",
    "np.array(range(255,260), dtype = 'i1')"
   ]
  },
  {
   "cell_type": "code",
   "execution_count": 51,
   "metadata": {},
   "outputs": [],
   "source": [
    "arr_2=np.array(range(255,260), dtype = 'i2')"
   ]
  },
  {
   "cell_type": "code",
   "execution_count": 52,
   "metadata": {},
   "outputs": [
    {
     "data": {
      "text/plain": [
       "array([255, 256, 257, 258, 259], dtype=int16)"
      ]
     },
     "execution_count": 52,
     "metadata": {},
     "output_type": "execute_result"
    }
   ],
   "source": [
    "arr_2"
   ]
  },
  {
   "cell_type": "code",
   "execution_count": 55,
   "metadata": {},
   "outputs": [
    {
     "data": {
      "text/plain": [
       "dtype('int16')"
      ]
     },
     "execution_count": 55,
     "metadata": {},
     "output_type": "execute_result"
    }
   ],
   "source": [
    "arr_2.dtype"
   ]
  },
  {
   "cell_type": "markdown",
   "metadata": {},
   "source": [
    "dtype 的两个作用：\n",
    "- 指定数组数据类型\n",
    "- 查看数据类型"
   ]
  },
  {
   "cell_type": "markdown",
   "metadata": {},
   "source": [
    "### 1.2.2 转换数据类型--arr.astype(dtype)"
   ]
  },
  {
   "cell_type": "markdown",
   "metadata": {},
   "source": [
    "- 可以通过ndarray的astype方法明确地将一个数组从一个dtype转换成另一个dtype"
   ]
  },
  {
   "cell_type": "code",
   "execution_count": 56,
   "metadata": {},
   "outputs": [
    {
     "name": "stdout",
     "output_type": "stream",
     "text": [
      "[0 1 2 3 4] int32\n",
      "[0. 1. 2. 3. 4.] float64\n"
     ]
    }
   ],
   "source": [
    "arr_4 = np.array(range(5))\n",
    "print(arr_4,arr_4.dtype)\n",
    "\n",
    "float_arr4 = arr_4.astype('f8')\n",
    "print(float_arr4,float_arr4.dtype)"
   ]
  },
  {
   "cell_type": "code",
   "execution_count": 57,
   "metadata": {},
   "outputs": [],
   "source": [
    "#arr_4.astype??"
   ]
  },
  {
   "cell_type": "markdown",
   "metadata": {},
   "source": [
    "- 将浮点数转换成整数，则小数部分将会被截取删除,可以理解为向下取整"
   ]
  },
  {
   "cell_type": "code",
   "execution_count": 58,
   "metadata": {},
   "outputs": [
    {
     "name": "stdout",
     "output_type": "stream",
     "text": [
      "[0.  1.1 2.2 3.3 4.4] float64\n",
      "[0 1 2 3 4] int32\n"
     ]
    }
   ],
   "source": [
    "arr_5 = arr_4 + arr_4/10\n",
    "print(arr_5,arr_5.dtype)\n",
    "\n",
    "int_arr5 = arr_5.astype('i4')\n",
    "print(int_arr5, int_arr5.dtype)"
   ]
  },
  {
   "cell_type": "markdown",
   "metadata": {},
   "source": [
    "- 如果某字符串数组表示的全是数字，也可以用astype将其转换为数值形式"
   ]
  },
  {
   "cell_type": "code",
   "execution_count": 59,
   "metadata": {},
   "outputs": [
    {
     "name": "stdout",
     "output_type": "stream",
     "text": [
      "[b'1.25' b'-9.6' b'42'] |S4\n",
      "[ 1.25 -9.6  42.  ] float64\n"
     ]
    }
   ],
   "source": [
    "arr_strs = np.array(['1.25', '-9.6', '42'], dtype=np.string_)\n",
    "print(arr_strs,arr_strs.dtype)\n",
    "float_arr_strs = arr_strs.astype(float)\n",
    "print(float_arr_strs,float_arr_strs.dtype)"
   ]
  },
  {
   "cell_type": "markdown",
   "metadata": {},
   "source": [
    "## 1.3. 数组形状操作"
   ]
  },
  {
   "cell_type": "markdown",
   "metadata": {},
   "source": [
    "- reshape  有返回值"
   ]
  },
  {
   "cell_type": "code",
   "execution_count": 61,
   "metadata": {},
   "outputs": [
    {
     "name": "stdout",
     "output_type": "stream",
     "text": [
      "[0 1 2 3 4 5 6 7 8]\n",
      "9\n",
      "[[0 1 2]\n",
      " [3 4 5]\n",
      " [6 7 8]]\n"
     ]
    }
   ],
   "source": [
    "arr_5 = np.array(range(9))\n",
    "print(arr_5)\n",
    "print(len(arr_5))\n",
    "reshape_arr5 = arr_5.reshape((3,3))\n",
    "print(reshape_arr5)"
   ]
  },
  {
   "cell_type": "markdown",
   "metadata": {},
   "source": [
    "调用reshap 改变数组形状"
   ]
  },
  {
   "cell_type": "code",
   "execution_count": 64,
   "metadata": {},
   "outputs": [
    {
     "name": "stdout",
     "output_type": "stream",
     "text": [
      "arr_5:\n",
      " [99  1  2  3  4  5  6  7  8]\n",
      "reshape_arr5:\n",
      " [[99  1  2]\n",
      " [ 3  4  5]\n",
      " [ 6  7  8]]\n"
     ]
    }
   ],
   "source": [
    "arr_5[0] = 99\n",
    "print('arr_5:\\n',arr_5)\n",
    "print('reshape_arr5:\\n',reshape_arr5)"
   ]
  },
  {
   "cell_type": "code",
   "execution_count": 65,
   "metadata": {},
   "outputs": [
    {
     "name": "stdout",
     "output_type": "stream",
     "text": [
      "arr_5:\n",
      " [99  1  2  3  4  5  6  7  8]\n",
      "reshape_arr5:\n",
      " [[99  1  2]\n",
      " [ 3  4  5]\n",
      " [ 6  7  8]]\n",
      "arr_5:\n",
      " [999   1   2   3   4   5   6   7   8]\n",
      "reshape_arr5:\n",
      " [[999   1   2]\n",
      " [  3   4   5]\n",
      " [  6   7   8]]\n"
     ]
    }
   ],
   "source": [
    "print('arr_5:\\n',arr_5)\n",
    "print('reshape_arr5:\\n',reshape_arr5)\n",
    "reshape_arr5[0][0] = 999\n",
    "print('arr_5:\\n',arr_5)\n",
    "print('reshape_arr5:\\n',reshape_arr5)"
   ]
  },
  {
   "cell_type": "markdown",
   "metadata": {},
   "source": [
    "- -1代表的维度的取值需要根据数组的长度和其他维度来共同确认"
   ]
  },
  {
   "cell_type": "code",
   "execution_count": 67,
   "metadata": {},
   "outputs": [
    {
     "data": {
      "text/plain": [
       "array([[999,   1,   2],\n",
       "       [  3,   4,   5],\n",
       "       [  6,   7,   8]])"
      ]
     },
     "execution_count": 67,
     "metadata": {},
     "output_type": "execute_result"
    }
   ],
   "source": [
    "reshape_arr5.reshape((-1,3))"
   ]
  },
  {
   "cell_type": "markdown",
   "metadata": {},
   "source": [
    "- shape  数组本身改变"
   ]
  },
  {
   "cell_type": "code",
   "execution_count": 69,
   "metadata": {},
   "outputs": [
    {
     "name": "stdout",
     "output_type": "stream",
     "text": [
      "[0 1 2 3 4 5 6 7 8]\n",
      "[[0 1 2]\n",
      " [3 4 5]\n",
      " [6 7 8]]\n"
     ]
    }
   ],
   "source": [
    "arr_5 = np.array(range(9))\n",
    "print(arr_5)\n",
    "arr_5.shape = (3,3)\n",
    "print(arr_5)"
   ]
  },
  {
   "cell_type": "markdown",
   "metadata": {},
   "source": [
    "- resize  **resize没有返回值,执行后数组本身也可以改变，效果和shape相同**"
   ]
  },
  {
   "cell_type": "code",
   "execution_count": 70,
   "metadata": {},
   "outputs": [
    {
     "name": "stdout",
     "output_type": "stream",
     "text": [
      "arr_5:\n",
      " [0 1 2 3 4 5 6 7 8]\n",
      "arr_5:\n",
      " [[0 1 2]\n",
      " [3 4 5]\n",
      " [6 7 8]]\n",
      "resize_arr5:\n",
      " None\n"
     ]
    }
   ],
   "source": [
    "arr_5 = np.array(range(9))\n",
    "print('arr_5:\\n',arr_5)\n",
    "resize_arr5 = arr_5.resize(3,3)\n",
    "print('arr_5:\\n',arr_5)\n",
    "print('resize_arr5:\\n',resize_arr5)"
   ]
  },
  {
   "cell_type": "markdown",
   "metadata": {},
   "source": [
    "- ravel 扁平化，就是把数组变成一维"
   ]
  },
  {
   "cell_type": "code",
   "execution_count": 71,
   "metadata": {},
   "outputs": [
    {
     "name": "stdout",
     "output_type": "stream",
     "text": [
      "arr_5:\n",
      " [[0 1 2]\n",
      " [3 4 5]\n",
      " [6 7 8]]\n"
     ]
    }
   ],
   "source": [
    "arr_5 = np.array(range(9))\n",
    "arr_5.shape = (3,3)\n",
    "print('arr_5:\\n',arr_5)"
   ]
  },
  {
   "cell_type": "code",
   "execution_count": 72,
   "metadata": {},
   "outputs": [
    {
     "name": "stdout",
     "output_type": "stream",
     "text": [
      "ravel_arr5:\n",
      " [0 1 2 3 4 5 6 7 8]\n"
     ]
    }
   ],
   "source": [
    "ravel_arr5 = arr_5.ravel()\n",
    "print('ravel_arr5:\\n', ravel_arr5)"
   ]
  },
  {
   "cell_type": "code",
   "execution_count": 73,
   "metadata": {},
   "outputs": [
    {
     "name": "stdout",
     "output_type": "stream",
     "text": [
      "arr_5:\n",
      " [[0 1 2]\n",
      " [3 4 5]\n",
      " [6 7 8]]\n",
      "ravel_arr5:\n",
      " [0 1 2 3 4 5 6 7 8]\n",
      "arr_5:\n",
      " [[999   1   2]\n",
      " [  3   4   5]\n",
      " [  6   7   8]]\n",
      "ravel_arr5:\n",
      " [999   1   2   3   4   5   6   7   8]\n"
     ]
    }
   ],
   "source": [
    "\n",
    "print('arr_5:\\n',arr_5)\n",
    "print('ravel_arr5:\\n',ravel_arr5)\n",
    "arr_5[0][0] = 999\n",
    "print('arr_5:\\n',arr_5)\n",
    "print('ravel_arr5:\\n',ravel_arr5)"
   ]
  },
  {
   "cell_type": "markdown",
   "metadata": {},
   "source": [
    "- flatten 扁平化  *改变其扁平化的值，原来数组的值不会改变*"
   ]
  },
  {
   "cell_type": "code",
   "execution_count": 74,
   "metadata": {},
   "outputs": [
    {
     "name": "stdout",
     "output_type": "stream",
     "text": [
      "arr_5:\n",
      " [[0 1 2]\n",
      " [3 4 5]\n",
      " [6 7 8]]\n"
     ]
    }
   ],
   "source": [
    "arr_5 = np.array(range(9))\n",
    "arr_5.shape = (3,3)\n",
    "print('arr_5:\\n',arr_5)"
   ]
  },
  {
   "cell_type": "code",
   "execution_count": 75,
   "metadata": {},
   "outputs": [
    {
     "name": "stdout",
     "output_type": "stream",
     "text": [
      "flatten_arr5:\n",
      " [0 1 2 3 4 5 6 7 8]\n"
     ]
    }
   ],
   "source": [
    "flatten_arr5 = arr_5.flatten()\n",
    "print('flatten_arr5:\\n', flatten_arr5)"
   ]
  },
  {
   "cell_type": "code",
   "execution_count": 76,
   "metadata": {},
   "outputs": [
    {
     "name": "stdout",
     "output_type": "stream",
     "text": [
      "arr_5:\n",
      " [[0 1 2]\n",
      " [3 4 5]\n",
      " [6 7 8]]\n",
      "flatten_arr5:\n",
      " [0 1 2 3 4 5 6 7 8]\n",
      "arr_5:\n",
      " [[999   1   2]\n",
      " [  3   4   5]\n",
      " [  6   7   8]]\n",
      "flatten_arr5:\n",
      " [0 1 2 3 4 5 6 7 8]\n"
     ]
    }
   ],
   "source": [
    "print('arr_5:\\n',arr_5)\n",
    "print('flatten_arr5:\\n',flatten_arr5)\n",
    "arr_5[0][0] = 999\n",
    "print('arr_5:\\n',arr_5)\n",
    "print('flatten_arr5:\\n',flatten_arr5)"
   ]
  },
  {
   "cell_type": "markdown",
   "metadata": {},
   "source": [
    "## 1.4. NumPy数组的运算"
   ]
  },
  {
   "cell_type": "code",
   "execution_count": 79,
   "metadata": {},
   "outputs": [
    {
     "name": "stdout",
     "output_type": "stream",
     "text": [
      "arr_5:\n",
      " [[0 1 2]\n",
      " [3 4 5]\n",
      " [6 7 8]]\n",
      "arr_5 * arr_5:\n",
      " [[ 0  1  4]\n",
      " [ 9 16 25]\n",
      " [36 49 64]]\n"
     ]
    }
   ],
   "source": [
    "arr_5 = np.array(range(9))\n",
    "arr_5.shape = (3,3)\n",
    "print('arr_5:\\n',arr_5)\n",
    "#这个是数组的点乘\n",
    "print('arr_5 * arr_5:\\n',arr_5 * arr_5)"
   ]
  },
  {
   "cell_type": "markdown",
   "metadata": {},
   "source": [
    "- 数组与标量的算术运算会将标量值传播到各个元素 + - * / // % **"
   ]
  },
  {
   "cell_type": "code",
   "execution_count": 80,
   "metadata": {},
   "outputs": [
    {
     "name": "stdout",
     "output_type": "stream",
     "text": [
      "arr_5:\n",
      " [[0 1 2]\n",
      " [3 4 5]\n",
      " [6 7 8]]\n",
      "arr_5+3:\n",
      " [[ 3  4  5]\n",
      " [ 6  7  8]\n",
      " [ 9 10 11]]\n"
     ]
    }
   ],
   "source": [
    "arr_5 = np.array(range(9))\n",
    "arr_5.shape = (3,3)\n",
    "print('arr_5:\\n',arr_5)\n",
    "print('arr_5+3:\\n',arr_5+3)"
   ]
  },
  {
   "cell_type": "markdown",
   "metadata": {},
   "source": [
    "- 大小相同的数组之间的比较会生成布尔值数组"
   ]
  },
  {
   "cell_type": "code",
   "execution_count": 81,
   "metadata": {},
   "outputs": [
    {
     "name": "stdout",
     "output_type": "stream",
     "text": [
      "arr_5:\n",
      " [[0 1 2]\n",
      " [3 4 5]\n",
      " [6 7 8]]\n",
      "arr_5%3:\n",
      " [[0 1 2]\n",
      " [0 1 2]\n",
      " [0 1 2]]\n",
      "判断arr_5 == arr_5%3:\n",
      " [[ True  True  True]\n",
      " [False False False]\n",
      " [False False False]]\n"
     ]
    }
   ],
   "source": [
    "arr_5 = np.array(range(9))\n",
    "arr_5.shape = (3,3)\n",
    "print('arr_5:\\n',arr_5)\n",
    "print('arr_5%3:\\n',arr_5%3)\n",
    "print('判断arr_5 == arr_5%3:\\n',arr_5 == arr_5%3)"
   ]
  },
  {
   "cell_type": "markdown",
   "metadata": {},
   "source": [
    "## 1.5. 数组的广播"
   ]
  },
  {
   "cell_type": "markdown",
   "metadata": {},
   "source": [
    "如果两个数组的维数不相同，则元素到元素的操作是不可能的\n",
    "\n",
    "但是！！！！！！\n",
    "\n",
    "在 NumPy 中仍然可以对形状不相似的数组进行操作，因为它拥有广播功能\n",
    "- 较小的数组会广播到较大数组的大小，以便使它们的形状可兼容"
   ]
  },
  {
   "cell_type": "code",
   "execution_count": 82,
   "metadata": {},
   "outputs": [
    {
     "name": "stdout",
     "output_type": "stream",
     "text": [
      "数组a：\n",
      " [[ 0.  0.  0.]\n",
      " [10. 10. 10.]\n",
      " [20. 20. 20.]\n",
      " [30. 30. 30.]]\n",
      "数组b：\n",
      " [1. 2. 3.]\n",
      "数组a加数组b：\n",
      " [[ 1.  2.  3.]\n",
      " [11. 12. 13.]\n",
      " [21. 22. 23.]\n",
      " [31. 32. 33.]]\n"
     ]
    }
   ],
   "source": [
    "a = np.array([[0.0,0.0,0.0],[10.0,10.0,10.0],[20.0,20.0,20.0],[30.0,30.0,30.0]]) \n",
    "b = np.array([1.0,2.0,3.0])  \n",
    "print ('数组a：\\n',a)  \n",
    "print ('数组b：\\n',b)  \n",
    "print ('数组a加数组b：\\n',a+b)  "
   ]
  },
  {
   "cell_type": "markdown",
   "metadata": {},
   "source": [
    "- shape不同时会自动进行广播处理，广播处理不了才报错！"
   ]
  },
  {
   "cell_type": "code",
   "execution_count": 83,
   "metadata": {},
   "outputs": [
    {
     "name": "stdout",
     "output_type": "stream",
     "text": [
      "数组a：\n",
      " [[ 0.  0.  0.]\n",
      " [10. 10. 10.]\n",
      " [20. 20. 20.]\n",
      " [30. 30. 30.]]\n",
      "数组b：\n",
      " [1. 2.]\n"
     ]
    },
    {
     "ename": "ValueError",
     "evalue": "operands could not be broadcast together with shapes (4,3) (2,) ",
     "output_type": "error",
     "traceback": [
      "\u001b[1;31m---------------------------------------------------------------------------\u001b[0m",
      "\u001b[1;31mValueError\u001b[0m                                Traceback (most recent call last)",
      "\u001b[1;32m<ipython-input-83-ecbff27e8465>\u001b[0m in \u001b[0;36m<module>\u001b[1;34m\u001b[0m\n\u001b[0;32m      3\u001b[0m \u001b[0mprint\u001b[0m \u001b[1;33m(\u001b[0m\u001b[1;34m'数组a：\\n'\u001b[0m\u001b[1;33m,\u001b[0m\u001b[0ma\u001b[0m\u001b[1;33m)\u001b[0m\u001b[1;33m\u001b[0m\u001b[1;33m\u001b[0m\u001b[0m\n\u001b[0;32m      4\u001b[0m \u001b[0mprint\u001b[0m \u001b[1;33m(\u001b[0m\u001b[1;34m'数组b：\\n'\u001b[0m\u001b[1;33m,\u001b[0m\u001b[0mb\u001b[0m\u001b[1;33m)\u001b[0m\u001b[1;33m\u001b[0m\u001b[1;33m\u001b[0m\u001b[0m\n\u001b[1;32m----> 5\u001b[1;33m \u001b[0mprint\u001b[0m \u001b[1;33m(\u001b[0m\u001b[1;34m'数组a加数组b：'\u001b[0m\u001b[1;33m,\u001b[0m\u001b[0ma\u001b[0m\u001b[1;33m+\u001b[0m\u001b[0mb\u001b[0m\u001b[1;33m)\u001b[0m\u001b[1;33m\u001b[0m\u001b[1;33m\u001b[0m\u001b[0m\n\u001b[0m",
      "\u001b[1;31mValueError\u001b[0m: operands could not be broadcast together with shapes (4,3) (2,) "
     ]
    }
   ],
   "source": [
    "a = np.array([[0.0,0.0,0.0],[10.0,10.0,10.0],[20.0,20.0,20.0],[30.0,30.0,30.0]]) \n",
    "b = np.array([1.0,2.0])  \n",
    "print ('数组a：\\n',a)  \n",
    "print ('数组b：\\n',b)  \n",
    "print ('数组a加数组b：',a+b)  "
   ]
  },
  {
   "cell_type": "markdown",
   "metadata": {},
   "source": [
    "**广播规则**  \n",
    "- 让所有输入数组都向其中shape最长的数组看齐，shape中不足的部分都通过在前面加1补齐\n",
    "- 输出数组的shape是输入数组shape的各个轴上的最大值\n",
    "- 如果输入数组的某个轴和输出数组的对应轴的长度相同或者其长度为1时，这个数组能够用来计算，否则出错\n",
    "- 当输入数组的某个轴的长度为1时，沿着此轴运算时都用此轴上的第一组值"
   ]
  },
  {
   "attachments": {
    "guangbo.jpg": {
     "image/jpeg": "[encoded data removed]"
    }
   },
   "cell_type": "markdown",
   "metadata": {},
   "source": [
    "![guangbo.jpg](attachment:guangbo.jpg)"
   ]
  },
  {
   "cell_type": "code",
   "execution_count": 84,
   "metadata": {},
   "outputs": [
    {
     "name": "stdout",
     "output_type": "stream",
     "text": [
      "数组a：\n",
      " [[ 0.  0.  0.]\n",
      " [10. 10. 10.]\n",
      " [20. 20. 20.]\n",
      " [30. 30. 30.]]\n",
      "数组b：\n",
      " [1.]\n",
      "数组a加数组b：\n",
      " [[ 1.  1.  1.]\n",
      " [11. 11. 11.]\n",
      " [21. 21. 21.]\n",
      " [31. 31. 31.]]\n"
     ]
    }
   ],
   "source": [
    "a = np.array([[0.0,0.0,0.0],[10.0,10.0,10.0],[20.0,20.0,20.0],[30.0,30.0,30.0]]) \n",
    "b = np.array([1.0])  \n",
    "print ('数组a：\\n',a)  \n",
    "print ('数组b：\\n',b)  \n",
    "print ('数组a加数组b：\\n',a+b)  "
   ]
  },
  {
   "cell_type": "markdown",
   "metadata": {},
   "source": [
    "## 1.6. 索引和切片"
   ]
  },
  {
   "cell_type": "markdown",
   "metadata": {},
   "source": [
    "- 一维数组：类似列表"
   ]
  },
  {
   "cell_type": "markdown",
   "metadata": {},
   "source": [
    "跟列表最重要的区别在于，数组切片是原始数组的视图。这意味着数据不会被复制，视图上的任何修改都会直接反映到源数组上。"
   ]
  },
  {
   "cell_type": "code",
   "execution_count": 85,
   "metadata": {},
   "outputs": [
    {
     "name": "stdout",
     "output_type": "stream",
     "text": [
      "arr:\n",
      " [0 1 2 3 4 5 6 7 8 9]\n",
      "arr_slice:\n",
      " [3 4 5]\n"
     ]
    }
   ],
   "source": [
    "arr = np.array(range(10))\n",
    "arr_slice = arr[3:6]\n",
    "print('arr:\\n',arr)\n",
    "print('arr_slice:\\n',arr_slice)"
   ]
  },
  {
   "cell_type": "code",
   "execution_count": 86,
   "metadata": {},
   "outputs": [
    {
     "name": "stdout",
     "output_type": "stream",
     "text": [
      "ls:\n",
      " [0, 1, 2, 3, 4, 5, 6, 7, 8, 9]\n",
      "ls_slice:\n",
      " [3, 4, 5]\n"
     ]
    }
   ],
   "source": [
    "ls = list(range(10))\n",
    "ls_slice = ls[3:6]\n",
    "print('ls:\\n',ls)\n",
    "print('ls_slice:\\n',ls_slice)"
   ]
  },
  {
   "cell_type": "code",
   "execution_count": 87,
   "metadata": {},
   "outputs": [
    {
     "name": "stdout",
     "output_type": "stream",
     "text": [
      "arr:\n",
      " [    0     1     2 12345     4     5     6     7     8     9]\n",
      "arr_alice:\n",
      " [12345     4     5]\n",
      "ls:\n",
      " [0, 1, 2, 3, 4, 5, 6, 7, 8, 9]\n",
      "ls_slice:\n",
      " [12345, 4, 5]\n"
     ]
    }
   ],
   "source": [
    "arr_slice[0]= 12345\n",
    "ls_slice[0] = 12345\n",
    "print('arr:\\n',arr)\n",
    "print('arr_alice:\\n',arr_slice)\n",
    "#list列表不改变，array数组改变\n",
    "print('ls:\\n',ls)\n",
    "print('ls_slice:\\n',ls_slice)"
   ]
  },
  {
   "cell_type": "markdown",
   "metadata": {},
   "source": [
    "切片[ : ]会给数组中的所有值赋值："
   ]
  },
  {
   "cell_type": "code",
   "execution_count": 88,
   "metadata": {},
   "outputs": [
    {
     "name": "stdout",
     "output_type": "stream",
     "text": [
      "arr:\n",
      " [0 1 2 0 0 0 6 7 8 9]\n",
      "arr_alice:\n",
      " [0 0 0]\n"
     ]
    }
   ],
   "source": [
    "arr_slice[:] = 0\n",
    "print('arr:\\n',arr)\n",
    "print('arr_alice:\\n',arr_slice)"
   ]
  },
  {
   "cell_type": "markdown",
   "metadata": {},
   "source": [
    "- 如果你想要得到的是ndarray切片的一份副本，就需要进行复制操作，例如arr[5:8].copy()"
   ]
  },
  {
   "cell_type": "code",
   "execution_count": 89,
   "metadata": {},
   "outputs": [
    {
     "name": "stdout",
     "output_type": "stream",
     "text": [
      "arr:\n",
      " [0 1 2 3 4 5 6 7 8 9]\n",
      "arr_alice:\n",
      " [3 4 5]\n",
      "arr:\n",
      " [0 1 2 3 4 5 6 7 8 9]\n",
      "arr_alice:\n",
      " [0 0 0]\n"
     ]
    }
   ],
   "source": [
    "arr = np.array(range(10))\n",
    "arr_slice = arr[3:6].copy()\n",
    "print('arr:\\n',arr)\n",
    "print('arr_alice:\\n',arr_slice)\n",
    "arr_slice[:] = 0\n",
    "print('arr:\\n',arr)\n",
    "print('arr_alice:\\n',arr_slice)"
   ]
  },
  {
   "cell_type": "markdown",
   "metadata": {},
   "source": [
    "- 高维度数组:索引位置上的元素不再是标量而是一维数组"
   ]
  },
  {
   "cell_type": "code",
   "execution_count": 90,
   "metadata": {},
   "outputs": [
    {
     "data": {
      "text/plain": [
       "[[0, 1, 2, 3, 4], [5, 6, 7, 8, 9]]"
      ]
     },
     "execution_count": 90,
     "metadata": {},
     "output_type": "execute_result"
    }
   ],
   "source": [
    "ls = [list(range(5)),list(range(5,10))]\n",
    "ls"
   ]
  },
  {
   "cell_type": "code",
   "execution_count": 91,
   "metadata": {},
   "outputs": [
    {
     "data": {
      "text/plain": [
       "2"
      ]
     },
     "execution_count": 91,
     "metadata": {},
     "output_type": "execute_result"
    }
   ],
   "source": [
    "ls[0][2]"
   ]
  },
  {
   "cell_type": "code",
   "execution_count": 92,
   "metadata": {},
   "outputs": [
    {
     "ename": "TypeError",
     "evalue": "list indices must be integers or slices, not tuple",
     "output_type": "error",
     "traceback": [
      "\u001b[1;31m---------------------------------------------------------------------------\u001b[0m",
      "\u001b[1;31mTypeError\u001b[0m                                 Traceback (most recent call last)",
      "\u001b[1;32m<ipython-input-92-05f64adc0c99>\u001b[0m in \u001b[0;36m<module>\u001b[1;34m\u001b[0m\n\u001b[1;32m----> 1\u001b[1;33m \u001b[0mls\u001b[0m\u001b[1;33m[\u001b[0m\u001b[1;36m0\u001b[0m\u001b[1;33m,\u001b[0m\u001b[1;36m2\u001b[0m\u001b[1;33m]\u001b[0m\u001b[1;33m\u001b[0m\u001b[1;33m\u001b[0m\u001b[0m\n\u001b[0m",
      "\u001b[1;31mTypeError\u001b[0m: list indices must be integers or slices, not tuple"
     ]
    }
   ],
   "source": [
    "ls[0,2]"
   ]
  },
  {
   "cell_type": "code",
   "execution_count": 98,
   "metadata": {},
   "outputs": [
    {
     "data": {
      "text/plain": [
       "array([[0, 1, 2, 3, 4],\n",
       "       [5, 6, 7, 8, 9]])"
      ]
     },
     "execution_count": 98,
     "metadata": {},
     "output_type": "execute_result"
    }
   ],
   "source": [
    "arr = np.array(ls)\n",
    "arr"
   ]
  },
  {
   "cell_type": "code",
   "execution_count": 99,
   "metadata": {},
   "outputs": [
    {
     "data": {
      "text/plain": [
       "2"
      ]
     },
     "execution_count": 99,
     "metadata": {},
     "output_type": "execute_result"
    }
   ],
   "source": [
    "arr[0][2]"
   ]
  },
  {
   "cell_type": "code",
   "execution_count": 100,
   "metadata": {},
   "outputs": [
    {
     "data": {
      "text/plain": [
       "5"
      ]
     },
     "execution_count": 100,
     "metadata": {},
     "output_type": "execute_result"
    }
   ],
   "source": [
    "#list列表不允许，数组可以\n",
    "arr[1,0]"
   ]
  },
  {
   "cell_type": "code",
   "execution_count": 101,
   "metadata": {},
   "outputs": [
    {
     "data": {
      "text/plain": [
       "array([2, 3, 4])"
      ]
     },
     "execution_count": 101,
     "metadata": {},
     "output_type": "execute_result"
    }
   ],
   "source": [
    "arr[0,2:]"
   ]
  },
  {
   "cell_type": "code",
   "execution_count": 102,
   "metadata": {},
   "outputs": [
    {
     "data": {
      "text/plain": [
       "array([[0., 0., 0.],\n",
       "       [0., 0., 0.],\n",
       "       [0., 0., 0.]])"
      ]
     },
     "execution_count": 102,
     "metadata": {},
     "output_type": "execute_result"
    }
   ],
   "source": [
    "np.zeros((3,3))"
   ]
  },
  {
   "cell_type": "markdown",
   "metadata": {},
   "source": [
    "![img5.jpg](resource/img/img5.jpg)"
   ]
  },
  {
   "cell_type": "markdown",
   "metadata": {},
   "source": [
    "- 在多维数组中，如果省略了后面的索引，则返回对象会是一个维度低一点的ndarray"
   ]
  },
  {
   "cell_type": "code",
   "execution_count": 104,
   "metadata": {},
   "outputs": [
    {
     "name": "stdout",
     "output_type": "stream",
     "text": [
      "[[[ 1  2  3]\n",
      "  [ 4  5  6]]\n",
      "\n",
      " [[ 7  8  9]\n",
      "  [10 11 12]]]\n"
     ]
    }
   ],
   "source": [
    "arr3d = np.array([[[1, 2, 3], [4, 5, 6]], [[7, 8, 9], [10, 11, 12]]])\n",
    "print(arr3d)"
   ]
  },
  {
   "cell_type": "code",
   "execution_count": 105,
   "metadata": {},
   "outputs": [
    {
     "data": {
      "text/plain": [
       "(2, 2, 3)"
      ]
     },
     "execution_count": 105,
     "metadata": {},
     "output_type": "execute_result"
    }
   ],
   "source": [
    "arr3d.shape"
   ]
  },
  {
   "cell_type": "code",
   "execution_count": 106,
   "metadata": {},
   "outputs": [
    {
     "name": "stdout",
     "output_type": "stream",
     "text": [
      "[[1 2 3]\n",
      " [4 5 6]]\n"
     ]
    }
   ],
   "source": [
    "print(arr3d[0])"
   ]
  },
  {
   "cell_type": "code",
   "execution_count": 107,
   "metadata": {},
   "outputs": [
    {
     "name": "stdout",
     "output_type": "stream",
     "text": [
      "[1 2 3]\n"
     ]
    }
   ],
   "source": [
    "print(arr3d[0,0])"
   ]
  },
  {
   "cell_type": "code",
   "execution_count": 108,
   "metadata": {},
   "outputs": [
    {
     "name": "stdout",
     "output_type": "stream",
     "text": [
      "1\n"
     ]
    }
   ],
   "source": [
    "print(arr3d[0,0,0])"
   ]
  },
  {
   "cell_type": "markdown",
   "metadata": {},
   "source": [
    "- 标量值和数组都可以被赋值给数组"
   ]
  },
  {
   "cell_type": "code",
   "execution_count": 111,
   "metadata": {},
   "outputs": [
    {
     "name": "stdout",
     "output_type": "stream",
     "text": [
      "执行arr3d[0] = 42以后的arr3d\n",
      " [[[42 42 42]\n",
      "  [42 42 42]]\n",
      "\n",
      " [[ 7  8  9]\n",
      "  [10 11 12]]]\n",
      "===========分割线============\n",
      "执行arr3d[0] = old_values以后的arr3d\n",
      " [[[ 1  2  3]\n",
      "  [ 4  5  6]]\n",
      "\n",
      " [[ 7  8  9]\n",
      "  [10 11 12]]]\n"
     ]
    }
   ],
   "source": [
    "#将arr3d[0]的数据进行备份\n",
    "old_values = arr3d[0].copy()\n",
    "#修改arr3d[0]的值为42\n",
    "arr3d[0] = 42\n",
    "print('执行arr3d[0] = 42以后的arr3d\\n',arr3d)\n",
    "print('===========分割线============')\n",
    "#将一个数组赋值给另外一个数组\n",
    "arr3d[0] = old_values\n",
    "print('执行arr3d[0] = old_values以后的arr3d\\n',arr3d)"
   ]
  },
  {
   "cell_type": "markdown",
   "metadata": {},
   "source": [
    "## 1.7. 布尔型索引"
   ]
  },
  {
   "cell_type": "code",
   "execution_count": 112,
   "metadata": {},
   "outputs": [
    {
     "name": "stdout",
     "output_type": "stream",
     "text": [
      "['a' 'b' 'c' 'd' 'e' 'f' 'g']\n",
      "[[ 0.73894333  0.71716531 -0.8885595   0.1228435 ]\n",
      " [ 1.72704606  0.19880647  0.38821248 -1.21280968]\n",
      " [-0.10036446  0.56774891  0.30819953 -1.48070474]\n",
      " [ 1.65621773  0.53278902  0.71273184 -0.90686557]\n",
      " [ 1.40821574 -0.86956136  1.09475452 -1.41490181]\n",
      " [ 0.08153658  1.20997212  0.17932655 -1.86265077]\n",
      " [ 0.2980772  -0.04476434  1.26956055  2.27040122]]\n"
     ]
    }
   ],
   "source": [
    "strs = np.array(['a', 'b', 'c', 'd', 'e', 'f', 'g'])\n",
    "data = np.random.randn(7, 4) #随机形成7*4的数组\n",
    "print(strs)\n",
    "print(data)"
   ]
  },
  {
   "cell_type": "markdown",
   "metadata": {},
   "source": [
    "假设每个字母都对应data数组中的一行\n",
    "\n",
    "如何选出对应于字母'a'的所有行？？？"
   ]
  },
  {
   "cell_type": "code",
   "execution_count": 113,
   "metadata": {},
   "outputs": [
    {
     "name": "stdout",
     "output_type": "stream",
     "text": [
      "[[ True  True False  True]\n",
      " [ True  True  True False]\n",
      " [False  True  True False]\n",
      " [ True  True  True False]\n",
      " [ True False  True False]\n",
      " [ True  True  True False]\n",
      " [ True False  True  True]]\n"
     ]
    }
   ],
   "source": [
    "print(data > 0)"
   ]
  },
  {
   "cell_type": "code",
   "execution_count": 114,
   "metadata": {},
   "outputs": [
    {
     "name": "stdout",
     "output_type": "stream",
     "text": [
      "[ True False False False False False False]\n"
     ]
    }
   ],
   "source": [
    "print(strs == 'a')"
   ]
  },
  {
   "cell_type": "code",
   "execution_count": 116,
   "metadata": {},
   "outputs": [
    {
     "name": "stdout",
     "output_type": "stream",
     "text": [
      "[[ 0.73894333  0.71716531 -0.8885595   0.1228435 ]]\n"
     ]
    }
   ],
   "source": [
    "#选出为True的那一行，即第一行\n",
    "print(data[strs == 'a'])"
   ]
  },
  {
   "cell_type": "code",
   "execution_count": 117,
   "metadata": {},
   "outputs": [
    {
     "name": "stdout",
     "output_type": "stream",
     "text": [
      "[[-0.8885595  0.1228435]]\n"
     ]
    }
   ],
   "source": [
    "print(data[strs == 'a',2:])"
   ]
  },
  {
   "cell_type": "markdown",
   "metadata": {},
   "source": [
    "- 要选择'a'以外的其他值，既可以使用不等于符号（!=），也可以通过~对条件进行否定"
   ]
  },
  {
   "cell_type": "code",
   "execution_count": 123,
   "metadata": {},
   "outputs": [
    {
     "name": "stdout",
     "output_type": "stream",
     "text": [
      "[False  True  True  True  True  True  True]\n",
      "[ True False False False False False False]\n",
      "[[ 1.72704606  0.19880647  0.38821248 -1.21280968]\n",
      " [-0.10036446  0.56774891  0.30819953 -1.48070474]\n",
      " [ 1.65621773  0.53278902  0.71273184 -0.90686557]\n",
      " [ 1.40821574 -0.86956136  1.09475452 -1.41490181]\n",
      " [ 0.08153658  1.20997212  0.17932655 -1.86265077]\n",
      " [ 0.2980772  -0.04476434  1.26956055  2.27040122]]\n",
      "--------------\n",
      "[[ 1.72704606  0.19880647  0.38821248 -1.21280968]\n",
      " [-0.10036446  0.56774891  0.30819953 -1.48070474]\n",
      " [ 1.65621773  0.53278902  0.71273184 -0.90686557]\n",
      " [ 1.40821574 -0.86956136  1.09475452 -1.41490181]\n",
      " [ 0.08153658  1.20997212  0.17932655 -1.86265077]\n",
      " [ 0.2980772  -0.04476434  1.26956055  2.27040122]]\n"
     ]
    }
   ],
   "source": [
    "print(strs != 'a')\n",
    "#~为取反\n",
    "print(~(strs != 'a'))\n",
    "#可以理解为哪一行为true，输出哪一行\n",
    "print(data[strs != 'a'])\n",
    "print('--------------')\n",
    "print(data[~(strs == 'a')])"
   ]
  },
  {
   "cell_type": "markdown",
   "metadata": {},
   "source": [
    "## 1.8. 数组转置和轴对换"
   ]
  },
  {
   "cell_type": "markdown",
   "metadata": {},
   "source": [
    "- T:转置/轴反转\n",
    "- transpose：轴对换"
   ]
  },
  {
   "cell_type": "code",
   "execution_count": 125,
   "metadata": {},
   "outputs": [
    {
     "name": "stdout",
     "output_type": "stream",
     "text": [
      "arr:\n",
      " [[ 0  1  2  3  4]\n",
      " [ 5  6  7  8  9]\n",
      " [10 11 12 13 14]]\n",
      "--------------\n",
      "arr.T:\n",
      " [[ 0  5 10]\n",
      " [ 1  6 11]\n",
      " [ 2  7 12]\n",
      " [ 3  8 13]\n",
      " [ 4  9 14]]\n",
      "--------------\n",
      "arr:\n",
      " [[ 0  1  2  3  4]\n",
      " [ 5  6  7  8  9]\n",
      " [10 11 12 13 14]]\n",
      "--------------\n",
      "arr.transpose((1,0)):\n",
      " [[ 0  5 10]\n",
      " [ 1  6 11]\n",
      " [ 2  7 12]\n",
      " [ 3  8 13]\n",
      " [ 4  9 14]]\n"
     ]
    }
   ],
   "source": [
    "arr = np.arange(15).reshape((3, 5))\n",
    "print('arr:\\n',arr)\n",
    "print('--------------')\n",
    "print('arr.T:\\n',arr.T)\n",
    "print('--------------')\n",
    "print('arr:\\n',arr)\n",
    "print('--------------')\n",
    "#(3, 5) 3的索引是0，5的索引是1，transpose((1,0)  这里的1，0就是索引的位置，索引为1的位置是5，索引为0的位置是3\n",
    "print('arr.transpose((1,0)):\\n',arr.transpose((1,0))) "
   ]
  },
  {
   "cell_type": "markdown",
   "metadata": {},
   "source": [
    "在进行矩阵计算时，经常需要用到该操作，比如利用np.dot计算矩阵内积"
   ]
  },
  {
   "cell_type": "code",
   "execution_count": 127,
   "metadata": {},
   "outputs": [
    {
     "name": "stdout",
     "output_type": "stream",
     "text": [
      "arr:\n",
      " [[ 0.3728485  -0.92338748  2.15197874]\n",
      " [ 0.91772852  1.37356623  0.14187166]\n",
      " [ 1.07233311 -0.12291252  1.60926551]\n",
      " [ 1.86426744 -0.64460639  1.09575355]\n",
      " [-1.39808026 -0.41138835 -0.14508404]\n",
      " [ 0.43168442  1.59111555  0.46940372]]\n",
      "dot_arr:\n",
      " [[ 7.74761287  0.84476912  5.10648149]\n",
      " [ 0.84476912  5.87084256 -1.88980726]\n",
      " [ 5.10648149 -1.88980726  8.68294063]]\n"
     ]
    }
   ],
   "source": [
    "arr = np.random.randn(6, 3)\n",
    "print ('arr:\\n',arr)\n",
    "#注意，直接*是点积\n",
    "print ('dot_arr:\\n',np.dot(arr.T, arr))"
   ]
  },
  {
   "cell_type": "markdown",
   "metadata": {},
   "source": [
    "对于高维数组，转置需要得到一个由轴编号组成的元组才能对这些轴进行转置"
   ]
  },
  {
   "cell_type": "code",
   "execution_count": 129,
   "metadata": {},
   "outputs": [
    {
     "name": "stdout",
     "output_type": "stream",
     "text": [
      "[[[ 0  1  2  3]\n",
      "  [ 4  5  6  7]]\n",
      "\n",
      " [[ 8  9 10 11]\n",
      "  [12 13 14 15]]]\n",
      "========================\n",
      "[[[ 0  1  2  3]\n",
      "  [ 8  9 10 11]]\n",
      "\n",
      " [[ 4  5  6  7]\n",
      "  [12 13 14 15]]]\n",
      "========================\n",
      "arr_T:\n",
      " [[[ 0  8]\n",
      "  [ 4 12]]\n",
      "\n",
      " [[ 1  9]\n",
      "  [ 5 13]]\n",
      "\n",
      " [[ 2 10]\n",
      "  [ 6 14]]\n",
      "\n",
      " [[ 3 11]\n",
      "  [ 7 15]]]\n"
     ]
    }
   ],
   "source": [
    "arr = np.arange(16).reshape((2, 2, 4))\n",
    "print(arr)\n",
    "print('========================')\n",
    "print(arr.transpose((1, 0, 2)))\n",
    "print('========================')\n",
    "print('arr_T:\\n',arr.T)"
   ]
  },
  {
   "cell_type": "markdown",
   "metadata": {},
   "source": [
    "- arr.transpose((1, 0, 2)):第一个轴被换成了第二个，第二个轴被换成了第一个，最后一个轴不变\n",
    "- arr.T:轴反转"
   ]
  },
  {
   "cell_type": "markdown",
   "metadata": {},
   "source": [
    "# 2. 通用函数(ufunc)"
   ]
  },
  {
   "cell_type": "markdown",
   "metadata": {},
   "source": [
    "- 一元函数"
   ]
  },
  {
   "cell_type": "markdown",
   "metadata": {},
   "source": [
    "![img6.jpg](resource/img/img6.jpg)"
   ]
  },
  {
   "cell_type": "markdown",
   "metadata": {},
   "source": [
    "![img7.jpg](resource/img/img7.jpg)"
   ]
  },
  {
   "cell_type": "markdown",
   "metadata": {},
   "source": [
    "- 二元函数"
   ]
  },
  {
   "cell_type": "markdown",
   "metadata": {},
   "source": [
    "![img8.jpg](resource/img/img8.jpg)"
   ]
  },
  {
   "cell_type": "code",
   "execution_count": 131,
   "metadata": {},
   "outputs": [
    {
     "name": "stdout",
     "output_type": "stream",
     "text": [
      "[0 1 2 3 4 5 6 7 8 9]\n",
      "[0.         1.         1.41421356 1.73205081 2.         2.23606798\n",
      " 2.44948974 2.64575131 2.82842712 3.        ]\n",
      "9\n"
     ]
    }
   ],
   "source": [
    "arr = np.arange(10)\n",
    "\n",
    "print(arr)\n",
    "print(np.sqrt(arr))\n",
    "print(np.max(arr))"
   ]
  },
  {
   "cell_type": "code",
   "execution_count": 132,
   "metadata": {},
   "outputs": [
    {
     "name": "stdout",
     "output_type": "stream",
     "text": [
      "x:\n",
      " [-0.47409472  1.31340762 -1.04907696 -0.61641238 -1.38424479  0.11542378\n",
      "  0.66568423 -0.1421786 ]\n",
      "y:\n",
      " [-1.81325247 -0.42565347  1.57163557 -0.42664874  1.29813627  1.48839213\n",
      " -1.38286465  1.33668699]\n",
      "[-0.47409472  1.31340762  1.57163557 -0.42664874  1.29813627  1.48839213\n",
      "  0.66568423  1.33668699]\n"
     ]
    }
   ],
   "source": [
    "x = np.random.randn(8)\n",
    "y = np.random.randn(8)\n",
    "\n",
    "print('x:\\n',x)\n",
    "print('y:\\n',y)\n",
    "print(np.maximum(x, y))"
   ]
  },
  {
   "cell_type": "markdown",
   "metadata": {},
   "source": [
    "# 3. 利用数组进行数据处理"
   ]
  },
  {
   "cell_type": "markdown",
   "metadata": {},
   "source": [
    "我们想要在一组值（网格型）上计算sqrt(x^2+y^2)"
   ]
  },
  {
   "cell_type": "code",
   "execution_count": 134,
   "metadata": {},
   "outputs": [
    {
     "name": "stdout",
     "output_type": "stream",
     "text": [
      "[-5.   -4.99 -4.98 -4.97 -4.96 -4.95 -4.94 -4.93 -4.92 -4.91]\n",
      "1000\n",
      "[[-5.   -4.99 -4.98 ...  4.97  4.98  4.99]\n",
      " [-5.   -4.99 -4.98 ...  4.97  4.98  4.99]\n",
      " [-5.   -4.99 -4.98 ...  4.97  4.98  4.99]\n",
      " ...\n",
      " [-5.   -4.99 -4.98 ...  4.97  4.98  4.99]\n",
      " [-5.   -4.99 -4.98 ...  4.97  4.98  4.99]\n",
      " [-5.   -4.99 -4.98 ...  4.97  4.98  4.99]]\n",
      "---------\n",
      "[[-5.   -5.   -5.   ... -5.   -5.   -5.  ]\n",
      " [-4.99 -4.99 -4.99 ... -4.99 -4.99 -4.99]\n",
      " [-4.98 -4.98 -4.98 ... -4.98 -4.98 -4.98]\n",
      " ...\n",
      " [ 4.97  4.97  4.97 ...  4.97  4.97  4.97]\n",
      " [ 4.98  4.98  4.98 ...  4.98  4.98  4.98]\n",
      " [ 4.99  4.99  4.99 ...  4.99  4.99  4.99]]\n"
     ]
    }
   ],
   "source": [
    "points = np.arange(-5, 5, 0.01) # 1000个值，-5，-4.99...4.99\n",
    "print(points[0:10])\n",
    "print(len(points))\n",
    "xs, ys = np.meshgrid(points, points) #生成网格型数据，接受两个一维数组生成两个二维矩阵\n",
    "print(xs)\n",
    "print('---------')\n",
    "print(ys)"
   ]
  },
  {
   "cell_type": "code",
   "execution_count": 135,
   "metadata": {},
   "outputs": [
    {
     "name": "stdout",
     "output_type": "stream",
     "text": [
      "[[7.07106781 7.06400028 7.05693985 ... 7.04988652 7.05693985 7.06400028]\n",
      " [7.06400028 7.05692568 7.04985815 ... 7.04279774 7.04985815 7.05692568]\n",
      " [7.05693985 7.04985815 7.04278354 ... 7.03571603 7.04278354 7.04985815]\n",
      " ...\n",
      " [7.04988652 7.04279774 7.03571603 ... 7.0286414  7.03571603 7.04279774]\n",
      " [7.05693985 7.04985815 7.04278354 ... 7.03571603 7.04278354 7.04985815]\n",
      " [7.06400028 7.05692568 7.04985815 ... 7.04279774 7.04985815 7.05692568]]\n"
     ]
    }
   ],
   "source": [
    "z = np.sqrt(xs ** 2 + ys ** 2)\n",
    "print(z)"
   ]
  },
  {
   "cell_type": "markdown",
   "metadata": {},
   "source": [
    "## 3.1. 将条件逻辑表述为数组运算"
   ]
  },
  {
   "cell_type": "markdown",
   "metadata": {},
   "source": [
    "numpy.where函数是三元表达式x if condition else y的矢量化版本"
   ]
  },
  {
   "cell_type": "code",
   "execution_count": 136,
   "metadata": {},
   "outputs": [],
   "source": [
    "xarr = np.array([1.1, 1.2, 1.3, 1.4, 1.5])\n",
    "yarr = np.array([2.1, 2.2, 2.3, 2.4, 2.5])\n",
    "cond = np.array([True, False, True, True, False])"
   ]
  },
  {
   "cell_type": "code",
   "execution_count": 137,
   "metadata": {},
   "outputs": [
    {
     "name": "stdout",
     "output_type": "stream",
     "text": [
      "[1.1, 2.2, 1.3, 1.4, 2.5]\n"
     ]
    }
   ],
   "source": [
    "result = []\n",
    "for x,y,c in zip(xarr,yarr,cond):\n",
    "    if c:\n",
    "        result.append(x)\n",
    "    else:\n",
    "        result.append(y)\n",
    "print(result)"
   ]
  },
  {
   "cell_type": "markdown",
   "metadata": {},
   "source": [
    "- 对大数组的处理速度很慢\n",
    "- 无法用于多维数组"
   ]
  },
  {
   "cell_type": "code",
   "execution_count": 138,
   "metadata": {},
   "outputs": [
    {
     "name": "stdout",
     "output_type": "stream",
     "text": [
      "[1.1 2.2 1.3 1.4 2.5]\n"
     ]
    }
   ],
   "source": [
    "res = np.where(cond, xarr, yarr)\n",
    "print(res)"
   ]
  },
  {
   "cell_type": "markdown",
   "metadata": {},
   "source": [
    "- np.where的第二个和第三个参数不必是数组，它们都可以是标量值\n",
    "- 在数据分析工作中，where通常用于根据另一个数组而产生一个新的数组"
   ]
  },
  {
   "cell_type": "code",
   "execution_count": 139,
   "metadata": {},
   "outputs": [
    {
     "name": "stdout",
     "output_type": "stream",
     "text": [
      "[[-0.94628034  0.17103765  0.56957056  0.20058923]\n",
      " [ 0.63358805  1.37445497  0.55849102  0.07161402]\n",
      " [ 0.58739942  1.18460788  1.36354977  1.16719255]\n",
      " [ 1.78976936  0.3596162  -0.92282565 -0.33821766]]\n",
      "[[False  True  True  True]\n",
      " [ True  True  True  True]\n",
      " [ True  True  True  True]\n",
      " [ True  True False False]]\n",
      "[['-2' 'a' 'a' 'a']\n",
      " ['a' 'a' 'a' 'a']\n",
      " ['a' 'a' 'a' 'a']\n",
      " ['a' 'a' '-2' '-2']]\n"
     ]
    }
   ],
   "source": [
    "arr = np.random.randn(4, 4)\n",
    "print(arr)\n",
    "print(arr > 0)\n",
    "print(np.where(arr > 0, 'a', -2))#满足条件赋值为a，不满足条件赋值为-2"
   ]
  },
  {
   "cell_type": "markdown",
   "metadata": {},
   "source": [
    "- 使用np.where，可以将标量和数组结合起来"
   ]
  },
  {
   "cell_type": "code",
   "execution_count": 140,
   "metadata": {},
   "outputs": [
    {
     "name": "stdout",
     "output_type": "stream",
     "text": [
      "[[-0.94628034  0.17103765  0.56957056  0.20058923]\n",
      " [ 0.63358805  1.37445497  0.55849102  0.07161402]\n",
      " [ 0.58739942  1.18460788  1.36354977  1.16719255]\n",
      " [ 1.78976936  0.3596162  -0.92282565 -0.33821766]]\n",
      "---------\n",
      "[[-0.94628034  2.          2.          2.        ]\n",
      " [ 2.          2.          2.          2.        ]\n",
      " [ 2.          2.          2.          2.        ]\n",
      " [ 2.          2.         -0.92282565 -0.33821766]]\n"
     ]
    }
   ],
   "source": [
    "print(arr)\n",
    "print(\"---------\")\n",
    "print(np.where(arr > 0, 2, arr))"
   ]
  },
  {
   "cell_type": "markdown",
   "metadata": {},
   "source": [
    "## 3.2. 数学和统计方法"
   ]
  },
  {
   "cell_type": "markdown",
   "metadata": {},
   "source": [
    "- 通过数组上的一组数学函数对整个数组或某个轴向的数据进行统计计算\n",
    "- 求和、平均值、方差、标准差、中位数：sum, mean/average, var, std, median "
   ]
  },
  {
   "cell_type": "code",
   "execution_count": 141,
   "metadata": {},
   "outputs": [
    {
     "name": "stdout",
     "output_type": "stream",
     "text": [
      "[[ 0.58531626  1.0096224  -0.93882064 -2.5993093 ]\n",
      " [-0.04158886 -0.72823671 -0.16086106  0.18851362]\n",
      " [ 1.41413564  1.32462242  0.57877848  0.78255148]\n",
      " [ 2.00459926 -0.76840553 -0.42879974  0.78832656]\n",
      " [ 1.05270904  1.24343494 -1.05406584 -0.52211261]]\n",
      "0.1865204908065332\n",
      "0.1865204908065332\n",
      "3.7304098161306642\n"
     ]
    }
   ],
   "source": [
    "arr = np.random.randn(5, 4)\n",
    "print(arr)\n",
    "print(arr.mean())\n",
    "print(np.mean(arr))\n",
    "print(arr.sum())"
   ]
  },
  {
   "cell_type": "markdown",
   "metadata": {},
   "source": [
    "- axis选项参数，用于计算该轴向上的统计值"
   ]
  },
  {
   "cell_type": "code",
   "execution_count": 142,
   "metadata": {},
   "outputs": [
    {
     "name": "stdout",
     "output_type": "stream",
     "text": [
      "[-0.48579782 -0.18554325  1.02502201  0.39893014  0.17999138]\n",
      "[ 5.01517134  2.08103752 -2.0037688  -1.36203025]\n"
     ]
    }
   ],
   "source": [
    "#arr.mean(1)是“计算行的平均值”，arr.sum(0)是“计算每列的和”\n",
    "print(arr.mean(axis=1)) # C默认的排列，1是行，0是列\n",
    "print(arr.sum(axis=0))"
   ]
  },
  {
   "attachments": {
    "data_s_1.jpg": {
     "image/jpeg": "[encoded data removed]"
    }
   },
   "cell_type": "markdown",
   "metadata": {},
   "source": [
    "![data_s_1.jpg](attachment:data_s_1.jpg)"
   ]
  },
  {
   "attachments": {
    "data_s_2.jpg": {
     "image/jpeg": "[encoded data removed]"
    }
   },
   "cell_type": "markdown",
   "metadata": {},
   "source": [
    "![data_s_2.jpg](attachment:data_s_2.jpg)"
   ]
  },
  {
   "cell_type": "code",
   "execution_count": 143,
   "metadata": {},
   "outputs": [
    {
     "name": "stdout",
     "output_type": "stream",
     "text": [
      "[-1.74099106 -0.99073951  0.61563891 -1.49386455 -0.03631519 -0.07298659\n",
      " -0.33955047 -0.38984794 -0.36746679 -2.00042973]\n",
      "1\n",
      "arr_6大于0的数目为: 3\n"
     ]
    }
   ],
   "source": [
    "#统计>0的数目\n",
    "arr = np.random.randn(10)\n",
    "print(arr)\n",
    "print((arr > 0).sum())\n",
    "arr_6=np.array([1,2,3,4-5,-1])\n",
    "print('arr_6大于0的数目为:',(arr_6 > 0).sum())#把true看成1了,把false看成0了"
   ]
  },
  {
   "cell_type": "code",
   "execution_count": 144,
   "metadata": {},
   "outputs": [
    {
     "name": "stdout",
     "output_type": "stream",
     "text": [
      "[ True  True False]\n",
      "2\n"
     ]
    }
   ],
   "source": [
    "arr_1=np.array([True,True,False])\n",
    "print((arr_1>0))\n",
    "print((arr_1>0).sum())"
   ]
  },
  {
   "cell_type": "markdown",
   "metadata": {},
   "source": [
    "## 3.3. 排序"
   ]
  },
  {
   "cell_type": "markdown",
   "metadata": {},
   "source": [
    "- numpy.sort()\n",
    "- sort(a, axis=-1, kind=None, order=None)\n",
    "- Return a sorted copy of an array."
   ]
  },
  {
   "cell_type": "code",
   "execution_count": 145,
   "metadata": {},
   "outputs": [],
   "source": [
    "#help(np.sort)"
   ]
  },
  {
   "cell_type": "code",
   "execution_count": 146,
   "metadata": {},
   "outputs": [
    {
     "name": "stdout",
     "output_type": "stream",
     "text": [
      "a:\n",
      " [[3 7]\n",
      " [9 1]]\n",
      "*********\n",
      "[[3 7]\n",
      " [1 9]]\n",
      "*********\n",
      "[[3 1]\n",
      " [9 7]]\n",
      "**********\n",
      "a:\n",
      " [(b'raju', 21) (b'anil', 25) (b'ravi', 17) (b'amar', 27)]\n",
      "***********\n",
      "[(b'ravi', 17) (b'raju', 21) (b'anil', 25) (b'amar', 27)]\n"
     ]
    }
   ],
   "source": [
    "import numpy as np  \n",
    "\n",
    "a = np.array([[3,7],[9,1]])  \n",
    "print ('a:\\n',a)  \n",
    "print('*********')\n",
    "print (np.sort(a))  #默认按行排序\n",
    "print ('*********')   \n",
    "print (np.sort(a, axis =  0))  #axis=0代表列\n",
    "print ('**********')  \n",
    "\n",
    "dt = np.dtype([('name',  'S10'),('age',  int)]) \n",
    "a = np.array([(\"raju\",21),(\"anil\",25),(\"ravi\",  17),  (\"amar\",27)], dtype = dt)  \n",
    "print ('a:\\n',a) \n",
    "print('***********')\n",
    "print (np.sort(a, order =  'age'))"
   ]
  },
  {
   "cell_type": "markdown",
   "metadata": {},
   "source": [
    "- numpy.argsort()\n",
    "- 返回数据的索引数组"
   ]
  },
  {
   "cell_type": "code",
   "execution_count": 147,
   "metadata": {},
   "outputs": [
    {
     "name": "stdout",
     "output_type": "stream",
     "text": [
      "[[-1.64686685 -0.78298683 -0.15326144]\n",
      " [ 0.80869131 -0.68901984 -0.1330472 ]\n",
      " [ 0.45065706 -1.36087226  0.84654814]\n",
      " [-1.39191596 -0.08307836 -0.41725936]\n",
      " [ 0.29151813 -0.59928374 -2.12175704]]\n",
      "***********\n",
      "[[-1.64686685 -0.78298683 -0.15326144]\n",
      " [-0.68901984 -0.1330472   0.80869131]\n",
      " [-1.36087226  0.45065706  0.84654814]\n",
      " [-1.39191596 -0.41725936 -0.08307836]\n",
      " [-2.12175704 -0.59928374  0.29151813]]\n"
     ]
    }
   ],
   "source": [
    "arr = np.random.randn(5, 3)\n",
    "print(arr)\n",
    "print('***********')\n",
    "arr.sort(1)#这里可以理解为axis=1\n",
    "print(arr)"
   ]
  },
  {
   "cell_type": "code",
   "execution_count": 148,
   "metadata": {},
   "outputs": [
    {
     "name": "stdout",
     "output_type": "stream",
     "text": [
      "[[-0.08197272 -1.4694239  -0.94235798]\n",
      " [-0.21125896 -1.03135569  1.23696576]\n",
      " [ 0.48177088 -0.92086096  0.45096641]\n",
      " [ 0.70665004 -0.0342253   0.16274403]\n",
      " [ 1.09147366  0.9724803  -0.26177917]]\n",
      "***********\n"
     ]
    },
    {
     "data": {
      "text/plain": [
       "array([[1, 2, 0],\n",
       "       [1, 0, 2],\n",
       "       [1, 2, 0],\n",
       "       [1, 2, 0],\n",
       "       [2, 1, 0]], dtype=int64)"
      ]
     },
     "execution_count": 148,
     "metadata": {},
     "output_type": "execute_result"
    }
   ],
   "source": [
    "arr = np.random.randn(5, 3)\n",
    "print(arr)\n",
    "print('***********')\n",
    "arr.argsort(1)#给出的是排序的索引，例如1是原来矩阵每一行的第2个位置 ，2代表原来矩阵每一行的第3个位置"
   ]
  },
  {
   "cell_type": "markdown",
   "metadata": {},
   "source": [
    "- numpy.lexsort()"
   ]
  },
  {
   "cell_type": "code",
   "execution_count": 149,
   "metadata": {},
   "outputs": [],
   "source": [
    "#help(np.lexsort)"
   ]
  },
  {
   "cell_type": "markdown",
   "metadata": {},
   "source": [
    "# 4. `伪`随机数生成"
   ]
  },
  {
   "cell_type": "code",
   "execution_count": 150,
   "metadata": {},
   "outputs": [],
   "source": [
    "#help(np.random)#太。。。。长了。。。。。不建议"
   ]
  },
  {
   "cell_type": "code",
   "execution_count": 156,
   "metadata": {},
   "outputs": [
    {
     "name": "stdout",
     "output_type": "stream",
     "text": [
      "[[-2.05201254 -0.18482137  0.98983365 -1.43816291]\n",
      " [ 1.3325321  -1.4447805   3.38552386  1.56310339]\n",
      " [ 0.69132803  0.25340619  0.50518452  0.80863303]\n",
      " [-0.61915286 -1.51648414  0.26293855 -0.02557348]]\n",
      "----\n",
      "[[-2.05201254 -0.18482137  0.98983365 -1.43816291]\n",
      " [ 1.3325321  -1.4447805   3.38552386  1.56310339]\n",
      " [ 0.69132803  0.25340619  0.50518452  0.80863303]\n",
      " [-0.61915286 -1.51648414  0.26293855 -0.02557348]]\n"
     ]
    }
   ],
   "source": [
    "#注意np.random.randn(5, 3)是生成正态分布，下面的介绍可以看一下\n",
    "#生成标准正态分布\n",
    "samples = np.random.normal(size=(4, 4))\n",
    "print(samples)\n",
    "samples1 = np.random.normal((4, 4))\n",
    "print('----')\n",
    "print(samples)"
   ]
  },
  {
   "cell_type": "code",
   "execution_count": 157,
   "metadata": {},
   "outputs": [
    {
     "data": {
      "text/plain": [
       "array([-0.83305107,  0.11913504,  2.4429357 , ..., -0.54170843,\n",
       "        0.95112354, -0.46685488])"
      ]
     },
     "execution_count": 157,
     "metadata": {},
     "output_type": "execute_result"
    }
   ],
   "source": [
    "N = 1000000\n",
    "np.random.normal(size=N)"
   ]
  },
  {
   "cell_type": "code",
   "execution_count": 158,
   "metadata": {},
   "outputs": [],
   "source": [
    "# from random import normalvariate\n",
    "\n",
    "# N = 1000000\n",
    "# %timeit samples = [normalvariate(0, 1) for _ in range(N)]\n",
    "# %timeit np.random.normal(size=N)"
   ]
  },
  {
   "cell_type": "markdown",
   "metadata": {},
   "source": [
    "- 伪：算法生成\n",
    "- 设定种子"
   ]
  },
  {
   "cell_type": "markdown",
   "metadata": {},
   "source": [
    "![img9.jpg](resource/img/img9.jpg)"
   ]
  },
  {
   "cell_type": "markdown",
   "metadata": {},
   "source": [
    "![img10.jpg](resource/img/img10.jpg)"
   ]
  }
 ],
 "metadata": {
  "kernelspec": {
   "display_name": "Python 3",
   "language": "python",
   "name": "python3"
  },
  "language_info": {
   "codemirror_mode": {
    "name": "ipython",
    "version": 3
   },
   "file_extension": ".py",
   "mimetype": "text/x-python",
   "name": "python",
   "nbconvert_exporter": "python",
   "pygments_lexer": "ipython3",
   "version": "3.7.6"
  }
 },
 "nbformat": 4,
 "nbformat_minor": 4
}
