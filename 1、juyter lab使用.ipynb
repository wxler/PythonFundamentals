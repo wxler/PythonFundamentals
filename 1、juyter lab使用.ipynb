{
 "cells": [
  {
   "cell_type": "markdown",
   "metadata": {},
   "source": [
    "# 1. anaconda简介"
   ]
  },
  {
   "cell_type": "markdown",
   "metadata": {},
   "source": [
    "- 进入官网\n",
    "https://www.anaconda.com\n",
    "- 点解download进入下载页面\n",
    "- 按步骤安装\n",
    "- 启动相关应用\n",
    "\n",
    "![image](resource/img/img1.jpg)"
   ]
  },
  {
   "cell_type": "markdown",
   "metadata": {},
   "source": [
    "# 2. jupyter lab 基本操作"
   ]
  },
  {
   "cell_type": "markdown",
   "metadata": {},
   "source": [
    "## 2.1. jupyter lab 简介"
   ]
  },
  {
   "cell_type": "markdown",
   "metadata": {},
   "source": [
    "- JupyterLab包含了Jupyter Notebook所有功能。\n",
    "- JupyterLab作为一种基于web的集成开发环境，你可以使用它编写notebook、操作终端、编辑markdown文本、打开交互模式、查看csv文件及图片等功能"
   ]
  },
  {
   "cell_type": "markdown",
   "metadata": {},
   "source": [
    "## 2.2. jupyter lab 基本操作"
   ]
  },
  {
   "cell_type": "markdown",
   "metadata": {},
   "source": [
    "### 2.2.1 操作模式"
   ]
  },
  {
   "cell_type": "markdown",
   "metadata": {},
   "source": [
    "两种操作模式 `command  mode`  和  `edit  mode`"
   ]
  },
  {
   "cell_type": "markdown",
   "metadata": {},
   "source": [
    "在一个`cell`中按下`enter`就进入edit  mode，按下`Esc`进入command  mode"
   ]
  },
  {
   "cell_type": "markdown",
   "metadata": {},
   "source": [
    "### 2.2.2 cell转换类型"
   ]
  },
  {
   "cell_type": "markdown",
   "metadata": {},
   "source": [
    "- code:代码环境\n",
    "- markdown: 带有latex公式输入的增强markdown\n",
    "- raw：纯文本"
   ]
  },
  {
   "cell_type": "markdown",
   "metadata": {},
   "source": [
    "**cell类型转换方式**\n",
    "\n",
    "- 鼠标操作\n",
    "- 快捷键\n",
    "\n",
    "command模式下：m:markdown r:raw text y:code"
   ]
  },
  {
   "cell_type": "markdown",
   "metadata": {},
   "source": [
    "### 2.2.3 运行cell"
   ]
  },
  {
   "cell_type": "markdown",
   "metadata": {},
   "source": [
    "- shift+enter:运行并跳转到下一个cell\n",
    "- control+enter：运行并停留在当前cell"
   ]
  },
  {
   "cell_type": "markdown",
   "metadata": {},
   "source": [
    "### 2.2.4 增加/删除cell"
   ]
  },
  {
   "cell_type": "markdown",
   "metadata": {},
   "source": [
    "- 鼠标操作：两种模式均可\n",
    "- 快捷键：a/d command模式\n",
    "\n",
    "\n",
    "1. A 在当前cell的上面添加cell\n",
    "2. B 在当前cell的下面添加cell\n",
    "3. 双击D  快速删除当前cell"
   ]
  },
  {
   "cell_type": "markdown",
   "metadata": {},
   "source": [
    "### 2.2.5 代码提示功能"
   ]
  },
  {
   "cell_type": "markdown",
   "metadata": {},
   "source": [
    "- tab 代码补全或缩进\n",
    "- Shift-Tab 提示\n",
    "- 更多快捷键参照 [Jupyter Notebook骚操作](https://mp.weixin.qq.com/s?__biz=MzU5MjI3NzIxMw==&mid=2247488276&idx=2&sn=696900f0744474486eece7dee706e31e&chksm=fe2368a6c954e1b01e7e5943b697c1aec840aba995446230d9c6dc385f8471750002539a5921&mpshare=1&scene=24&srcid=&sharer_sharetime=1591664539198&sharer_shareid=18383980e942ee6dfd94ea4b7b61fcbe&ascene=14&devicetype=android-29&version=27000f3d&nettype=WIFI&abtest_cookie=AAACAA%3D%3D&lang=zh_CN&exportkey=AX%2BZM%2BDxUN6bs5k3X3SQbQY%3D&pass_ticket=njbcV9rUgIhNR7K4XdDWqfGsAPAcyPs1nE8Eoab4vyjmTWneMPO%2FDwraZRwPmQxP&wx_header=1)"
   ]
  },
  {
   "cell_type": "markdown",
   "metadata": {},
   "source": [
    "### 2.2.6 注释多行代码\n",
    "- ctrl / 注释多行代码"
   ]
  },
  {
   "cell_type": "markdown",
   "metadata": {},
   "source": [
    "### 2.2.6 运行py文件\n",
    "```python\n",
    "% run path/filename \n",
    "```"
   ]
  },
  {
   "cell_type": "raw",
   "metadata": {},
   "source": [
    "%run C:\\Users\\wang1\\Desktop\\学习笔记\\压缩文件zip\\go\\go.py"
   ]
  },
  {
   "cell_type": "markdown",
   "metadata": {},
   "source": [
    "### 2.2.7 Markdown标题级别"
   ]
  },
  {
   "cell_type": "markdown",
   "metadata": {},
   "source": [
    "- 命令行模式下，1 2 3 4 5 6分别是1-6级标题"
   ]
  },
  {
   "cell_type": "markdown",
   "metadata": {},
   "source": [
    "### 2.2.8 cell加行号"
   ]
  },
  {
   "cell_type": "markdown",
   "metadata": {},
   "source": [
    "- 命令行模式下，shilt+L为所有cell加上行号，L不持支给单个cell加行号\n",
    "- 鼠标点击view显示行号"
   ]
  },
  {
   "cell_type": "markdown",
   "metadata": {},
   "source": [
    "### 2.2.9 cell合并分割"
   ]
  },
  {
   "cell_type": "markdown",
   "metadata": {},
   "source": [
    "- 编辑模式，`crtl shift - 在光标处分割cell`\n",
    "- 命令行模式 `shift 鼠标 选中多个cell`  \n",
    "`shift m 合并选中给的cell`"
   ]
  },
  {
   "cell_type": "markdown",
   "metadata": {},
   "source": [
    "# 3. 插件安装"
   ]
  },
  {
   "cell_type": "markdown",
   "metadata": {},
   "source": [
    "- 查看已安装插件：`jupyter labextension list`"
   ]
  },
  {
   "cell_type": "markdown",
   "metadata": {},
   "source": [
    "## 3.1. Jupyter Notebook目录插件"
   ]
  },
  {
   "cell_type": "markdown",
   "metadata": {},
   "source": [
    "https://www.jianshu.com/p/f314e9868cae"
   ]
  },
  {
   "cell_type": "markdown",
   "metadata": {},
   "source": [
    "## 3.2. Jupyter lab目录插件"
   ]
  },
  {
   "cell_type": "markdown",
   "metadata": {},
   "source": [
    "https://www.pinggu.com/post/details/5eccf61a7fba3d625f75771d"
   ]
  },
  {
   "cell_type": "markdown",
   "metadata": {},
   "source": [
    "## 3.3. jupyterlab_code_formatter–代码pep8"
   ]
  },
  {
   "cell_type": "markdown",
   "metadata": {},
   "source": [
    "https://www.brothereye.cn/python/362/"
   ]
  },
  {
   "cell_type": "markdown",
   "metadata": {},
   "source": [
    "**jupyterlab_code_formatter官网**\n",
    "- https://github.com/ryantam626/jupyterlab_code_formatter"
   ]
  },
  {
   "cell_type": "markdown",
   "metadata": {},
   "source": [
    "## 3.4. 超级好用15个Jupyter Lab插件"
   ]
  },
  {
   "cell_type": "markdown",
   "metadata": {},
   "source": [
    "https://zhuanlan.zhihu.com/p/101070029"
   ]
  },
  {
   "cell_type": "markdown",
   "metadata": {},
   "source": [
    "## 3.5. 工具篇-Jupyter Lab效率提升插件"
   ]
  },
  {
   "cell_type": "markdown",
   "metadata": {},
   "source": [
    "https://zhuanlan.zhihu.com/p/73374773"
   ]
  },
  {
   "cell_type": "markdown",
   "metadata": {},
   "source": [
    "## 3.6. 解决build失败问题"
   ]
  },
  {
   "cell_type": "markdown",
   "metadata": {},
   "source": [
    "终止JupyterLab后，在命令行下输入`jupyter-lab build`"
   ]
  }
 ],
 "metadata": {
  "kernelspec": {
   "display_name": "Python 3",
   "language": "python",
   "name": "python3"
  },
  "language_info": {
   "codemirror_mode": {
    "name": "ipython",
    "version": 3
   },
   "file_extension": ".py",
   "mimetype": "text/x-python",
   "name": "python",
   "nbconvert_exporter": "python",
   "pygments_lexer": "ipython3",
   "version": "3.7.6"
  },
  "toc": {
   "base_numbering": 1,
   "nav_menu": {},
   "number_sections": true,
   "sideBar": true,
   "skip_h1_title": false,
   "title_cell": "Table of Contents",
   "title_sidebar": "Contents",
   "toc_cell": false,
   "toc_position": {},
   "toc_section_display": true,
   "toc_window_display": true
  }
 },
 "nbformat": 4,
 "nbformat_minor": 4
}
